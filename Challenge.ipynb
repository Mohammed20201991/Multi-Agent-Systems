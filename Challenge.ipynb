{
  "nbformat": 4,
  "nbformat_minor": 0,
  "metadata": {
    "colab": {
      "name": "Challenge.ipynb",
      "provenance": [],
      "collapsed_sections": []
    },
    "kernelspec": {
      "display_name": "Python 3",
      "name": "python3"
    },
    "language_info": {
      "name": "python"
    }
  },
  "cells": [
    {
      "cell_type": "code",
      "metadata": {
        "id": "kf441SkxtMup"
      },
      "source": [
        "!pip install git+https://github.com/agentcontest/python-mapc2020\n",
        "import mapc2020"
      ],
      "execution_count": null,
      "outputs": []
    },
    {
      "cell_type": "code",
      "metadata": {
        "id": "wqSSgJyLtbE-"
      },
      "source": [
        "breakout_room_id = 0 # type your breakout room id here!\n",
        "\n",
        "# This cell connects you to the MASSim server\n",
        "# do NOT change the lines below!!!\n",
        "team_name = 'B'+str(breakout_room_id)+'R' \n",
        "entity_name = 'agent'+team_name+str(mapc2020.unique_id(team_name))\n",
        "agent = mapc2020.Agent.open(user=entity_name, pw=str(breakout_room_id), host=\"agentcontest1.in.tu-clausthal.de\", port=12300)\n",
        "print(f\"You will control entity: {entity_name}\") \n",
        "print(\"Share this info with your teammates ;)\")"
      ],
      "execution_count": null,
      "outputs": []
    },
    {
      "cell_type": "markdown",
      "metadata": {
        "id": "at1FyHRglWXh"
      },
      "source": [
        "The percepts here are classified as\n",
        "\n",
        "* **static**: sent to the agents only once in the beginning of a simulation\n",
        "* **dynamic**: updated at every step"
      ]
    },
    {
      "cell_type": "code",
      "metadata": {
        "id": "L8lZ-kzMBSx1"
      },
      "source": [
        "# Percepts\n",
        "# print(agent.static) # received at the beginning of a simulation\n",
        "# print(agent.dynamic) # received in every step"
      ],
      "execution_count": null,
      "outputs": []
    },
    {
      "cell_type": "markdown",
      "metadata": {
        "id": "UqlyuYKOuHjW"
      },
      "source": [
        "More infos about the **Actions** are available here: \n",
        "\n",
        "https://github.com/agentcontest/massim_2020/blob/master/docs/scenario.md#actions"
      ]
    },
    {
      "cell_type": "markdown",
      "metadata": {
        "id": "5EBmYe4ZyqUy"
      },
      "source": [
        "**Movement**\n",
        "1. To move your agent, select the direction you want (**n**orth, **s**outh, **w**est, **e**ast) and let the other directions commented out; run the cell. \n",
        "2. To rotate your agents select the orientation (**c**lock**w**ise, **c**ounter**c**lock**w**ise)\n",
        "\n",
        "**Tip**: ctrl + / should be a shortcut for toggling line comments\n",
        "\n",
        "**Tip 2**: want to do nothing? use **skip** \n",
        "\n"
      ]
    },
    {
      "cell_type": "code",
      "metadata": {
        "id": "Ab50Vbe8z-Vv",
        "colab": {
          "base_uri": "https://localhost:8080/"
        },
        "outputId": "5a5a502c-285b-406e-c7fc-3f3632992cb4"
      },
      "source": [
        "agent.skip()\n",
        "print()"
      ],
      "execution_count": null,
      "outputs": [
        {
          "output_type": "stream",
          "text": [
            "\n"
          ],
          "name": "stdout"
        }
      ]
    },
    {
      "cell_type": "code",
      "metadata": {
        "id": "mSyrbfSoyphy"
      },
      "source": [
        "try:\n",
        "  agent.move(\"n\")\n",
        "  # agent.move(\"s\")\n",
        "  # agent.move(\"w\")\n",
        "  # agent.move(\"e\")\n",
        "except mapc2020.AgentActionError:\n",
        "  print(agent.dynamic['lastActionResult'])\n",
        "display(agent)"
      ],
      "execution_count": null,
      "outputs": []
    },
    {
      "cell_type": "code",
      "metadata": {
        "id": "aMSWTrf_fVtc"
      },
      "source": [
        "try:\n",
        "  agent.rotate(\"cw\")\n",
        "  # agent.rotate(\"ccw\")\n",
        "except mapc2020.AgentActionError:\n",
        "  print(agent.dynamic['lastActionResult'])\n",
        "display(agent)"
      ],
      "execution_count": null,
      "outputs": []
    },
    {
      "cell_type": "markdown",
      "metadata": {
        "id": "hZEPu1euigoG"
      },
      "source": [
        "**Preparing Task**\n",
        "\n",
        "1. Go to a task board (cyan color square)\n",
        "2. Chose one task that you would like to submit (you'll need the task's name)\n",
        "3. Send the action **accept** with the chosen task name\n",
        "4. Check out the task's requirementes and go to a useful dispenser\n",
        "5. **Request** a block from the dispenser, if not available yet; choose the appropriate direction\n",
        "6. **Attach** the available block to your agent; choose the appropriate direction\n"
      ]
    },
    {
      "cell_type": "code",
      "metadata": {
        "id": "rpS6Ggdnapo-"
      },
      "source": [
        "for task in agent.dynamic['tasks']:\n",
        "  print(task)"
      ],
      "execution_count": null,
      "outputs": []
    },
    {
      "cell_type": "code",
      "metadata": {
        "id": "eHriPvqVabCO"
      },
      "source": [
        "task_id = 110\n",
        "\n",
        "try:\n",
        "  task_name = \"task\"+str(task_id)\n",
        "  agent.accept(task_name)\n",
        "  print(\"Requirements:\")\n",
        "  for requirement in next(filter(lambda t: t['name'] == task_name, agent.dynamic['tasks']))['requirements']: \n",
        "    print(requirement)\n",
        "except mapc2020.AgentActionError:\n",
        "  print(agent.dynamic['lastActionResult'])"
      ],
      "execution_count": null,
      "outputs": []
    },
    {
      "cell_type": "code",
      "metadata": {
        "id": "W8rdKnuSbYAj"
      },
      "source": [
        "direction = \"n\"\n",
        "# direction = \"s\"\n",
        "# direction = \"w\"\n",
        "# direction = \"e\"\n",
        "\n",
        "try:\n",
        "  agent.request(direction)\n",
        "  agent.attach(direction)\n",
        "except mapc2020.AgentActionError:\n",
        "  pass \n",
        "print(agent.dynamic['lastActionResult'])"
      ],
      "execution_count": null,
      "outputs": []
    },
    {
      "cell_type": "markdown",
      "metadata": {
        "id": "bpzysQqRj_Jj"
      },
      "source": [
        "**Submitting a Task**\n",
        "\n",
        "We assume you have already accepted a task and gotten all of its requirements\n",
        "1. Go to a goal zone (red color cells)\n",
        "2. Your agent **must** be **inside** the goal zone; the blocks don't matter\n",
        "3. Rotate your agent to the block position required by the task (even if it's a task of only one block)\n",
        "4. **Submit** the task\n",
        "\n"
      ]
    },
    {
      "cell_type": "code",
      "metadata": {
        "id": "ouV3shulb5qH"
      },
      "source": [
        "task_id = task_id # should be the same task id as the one accepted in the accept code cell above\n",
        "\n",
        "try:\n",
        "  task_name = \"task\"+str(task_id) \n",
        "  agent.submit(task_name) \n",
        "except mapc2020.AgentActionError:\n",
        "  pass \n",
        "print(agent.dynamic['lastActionResult'])"
      ],
      "execution_count": null,
      "outputs": []
    },
    {
      "cell_type": "markdown",
      "metadata": {
        "id": "v73W8GQRqa2H"
      },
      "source": [
        "**Building Complex Structures**\n",
        "\n",
        "Tasks requiring more than one block will demand cooperation and coordination.\n",
        "\n",
        "\n",
        "* Collect the desired blocks\n",
        "* Go right beside your agent mate in a way that the desired block shape is formed\n",
        "* **Connect** the blocks\n",
        "* One of you must **dettach** from the block\n",
        "\n"
      ]
    },
    {
      "cell_type": "code",
      "metadata": {
        "id": "eXmuOWLLVatd"
      },
      "source": [
        "print(agent.dynamic['attached'])"
      ],
      "execution_count": null,
      "outputs": []
    },
    {
      "cell_type": "code",
      "metadata": {
        "id": "b4_m6mvpVU9b"
      },
      "source": [
        "relative_x = 0\n",
        "relative_y = 2\n",
        "agent_partner_id = 0\n",
        "\n",
        "try:\n",
        "  agent.connect(\"agent\"+team_name+str(agent_partner_id), (relative_x, relative_y))\n",
        "except mapc2020.AgentActionError:\n",
        "  pass \n",
        "print(agent.dynamic['lastActionResult'])"
      ],
      "execution_count": null,
      "outputs": []
    },
    {
      "cell_type": "code",
      "metadata": {
        "id": "ksbyG8EV-7jf"
      },
      "source": [
        "direction = \"n\"\n",
        "# direction = \"s\"\n",
        "# direction = \"w\"\n",
        "# direction = \"e\"\n",
        "\n",
        "try:\n",
        "  agent.detach(direction)\n",
        "except mapc2020.AgentActionError:\n",
        "  pass \n",
        "print(agent.dynamic['lastActionResult'])"
      ],
      "execution_count": null,
      "outputs": []
    },
    {
      "cell_type": "markdown",
      "metadata": {
        "id": "FtOR9W8a_VqH"
      },
      "source": [
        "**Additinal Actions**"
      ]
    },
    {
      "cell_type": "code",
      "metadata": {
        "id": "WWLwY0wa-k1Q"
      },
      "source": [
        "x_first = 1\n",
        "y_first = 0\n",
        "x_second = 2 \n",
        "y_second = 0\n",
        "\n",
        "try:\n",
        "  agent.disconnect((x_first,y_first),(x_second,y_second))\n",
        "except mapc2020.AgentActionError:\n",
        "  pass \n",
        "print(agent.dynamic['lastActionResult'])"
      ],
      "execution_count": null,
      "outputs": []
    },
    {
      "cell_type": "markdown",
      "metadata": {
        "id": "u8SKUYDdqGGZ"
      },
      "source": [
        "The **clear action** must be sent repeatdly to take effect. So, choose your target and aim at it!"
      ]
    },
    {
      "cell_type": "code",
      "metadata": {
        "id": "rpH3l0vW_jdA"
      },
      "source": [
        "x = -1\n",
        "y = -2\n",
        "\n",
        "try:\n",
        "  for i in range(3): # action clear must be executed in a row to take effect\n",
        "    print(f\"Sending a clear action for step {agent.step()+1}\")    \n",
        "    agent.clear((x,y))\n",
        "  print(f\"Energy left: {agent.dynamic['energy']}\")\n",
        "except mapc2020.AgentActionError:\n",
        "  pass \n",
        "print(agent.dynamic['lastActionResult'])"
      ],
      "execution_count": null,
      "outputs": []
    }
  ]
}